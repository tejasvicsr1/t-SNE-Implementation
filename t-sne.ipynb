{
 "cells": [
  {
   "cell_type": "code",
   "execution_count": 1,
   "metadata": {},
   "outputs": [
    {
     "name": "stdout",
     "output_type": "stream",
     "text": [
      "Defaulting to user installation because normal site-packages is not writeable\n",
      "Requirement already satisfied: sklearn in /home/tejasvi/.local/lib/python3.9/site-packages (0.0)\n",
      "Requirement already satisfied: scikit-learn in /home/tejasvi/.local/lib/python3.9/site-packages (from sklearn) (1.0.1)\n",
      "Requirement already satisfied: joblib>=0.11 in /home/tejasvi/.local/lib/python3.9/site-packages (from scikit-learn->sklearn) (1.1.0)\n",
      "Requirement already satisfied: threadpoolctl>=2.0.0 in /home/tejasvi/.local/lib/python3.9/site-packages (from scikit-learn->sklearn) (3.0.0)\n",
      "Requirement already satisfied: numpy>=1.14.6 in /home/tejasvi/.local/lib/python3.9/site-packages (from scikit-learn->sklearn) (1.21.4)\n",
      "Requirement already satisfied: scipy>=1.1.0 in /home/tejasvi/.local/lib/python3.9/site-packages (from scikit-learn->sklearn) (1.7.3)\n"
     ]
    }
   ],
   "source": [
    "import numpy as np\n",
    "import matplotlib.pyplot as plt\n",
    "from mpl_toolkits.mplot3d import Axes3D\n",
    "import seaborn as sns\n",
    "\n",
    "from Helpers.header import *"
   ]
  },
  {
   "cell_type": "code",
   "execution_count": 2,
   "metadata": {},
   "outputs": [],
   "source": [
    "\n",
    "\n",
    "# all the formulas are from https://cs.nyu.edu/~roweis/papers/sne_final.pdf\n",
    "# and http://www.cs.toronto.edu/~hinton/absps/tsne.pdf\n",
    "PERPLEXITY=5\n",
    "g_kernel=1\n",
    "EPOCHS=2000\n",
    "LR=200\n",
    "MOMENTUM=0.99\n",
    "\n",
    "def getKey(item):\n",
    "    return item[1]"
   ]
  },
  {
   "cell_type": "code",
   "execution_count": 3,
   "metadata": {},
   "outputs": [],
   "source": [
    "\n",
    "#compute the distance between the neighboors of x1 and return a list of the k neghboors\n",
    "#where k is the complexity\n",
    "def k_neighbours(x,x1_index,p_or_q='p'):\n",
    "    x1=x[x1_index]\n",
    "    list_k_neighbours=[]\n",
    "    for i in range(x.shape[0]):\n",
    "        if i!=x1_index:\n",
    "            xi=x[i]\n",
    "            if p_or_q=='p':\n",
    "                distance=np.exp(-np.linalg.norm(x1-xi)**2/(2*g_kernel**2))\n",
    "            else:\n",
    "                distance=(1+np.linalg.norm(x1-xi)**2)**-1\n",
    "            list_k_neighbours.append([i,distance])\n",
    "    \n",
    "    list_k_neighbours=sorted(list_k_neighbours,key=getKey)\n",
    "    return list_k_neighbours[:PERPLEXITY]"
   ]
  },
  {
   "cell_type": "code",
   "execution_count": 4,
   "metadata": {},
   "outputs": [],
   "source": [
    "\n",
    "#compute the similarity pij between two xi,xj in the original space\n",
    "#divide the distance between xi,xj by the sum of the distances of the k_neightbours where k is the complexity\n",
    "def compute_pij(x,x1_index,x2_index):\n",
    "    x1=x[x1_index]\n",
    "    x2=x[x2_index]\n",
    "    # num=(1+np.linalg.norm(x1-x2)**2)**(-1)/(2*g_kernel**2))\n",
    "    num=np.exp(-np.linalg.norm(x1-x2)**2)/(2*g_kernel**2)\n",
    "    denom=0\n",
    "    list_k_neighbours=k_neighbours(x,x1_index,'p')\n",
    "    for i in list_k_neighbours:\n",
    "        denom+=i[1]\n",
    "    return num/denom"
   ]
  },
  {
   "cell_type": "code",
   "execution_count": 5,
   "metadata": {},
   "outputs": [],
   "source": [
    "\n",
    "#compute the table p of the xij in the original space\n",
    "def compute_p(x):\n",
    "    table=np.zeros((x.shape[0],x.shape[0]))\n",
    "    for i in range(x.shape[0]):\n",
    "        for j in range(x.shape[0]):\n",
    "            if i!=j:\n",
    "                pij=compute_pij(x,i,j)\n",
    "                pji=compute_pij(x,j,i)\n",
    "                table[i,j]=(pij+pji)/(2*x.shape[0])\n",
    "                # table[i,j]=pij\n",
    "    return table"
   ]
  },
  {
   "cell_type": "code",
   "execution_count": 6,
   "metadata": {},
   "outputs": [],
   "source": [
    "\n",
    "#compute the similarity qij between two yi,yj in the new space\n",
    "#divide the distance between yi,yj by the sum of the distances of the k_neightbours where k is the complexity\n",
    "def compute_qij(y,y1_index,y2_index):\n",
    "    y1=y[y1_index]\n",
    "    y2=y[y2_index]\n",
    "    num=(1+np.linalg.norm(y1-y2)**2)**(-1)\n",
    "    denom=0\n",
    "    for i in k_neighbours(y,y1_index,'q'):\n",
    "        denom+=i[1]\n",
    "    return num/denom"
   ]
  },
  {
   "cell_type": "code",
   "execution_count": 7,
   "metadata": {},
   "outputs": [],
   "source": [
    "\n",
    "#compute the table q of the yij in the new space\n",
    "def compute_q(y):\n",
    "    table=np.zeros((y.shape[0],y.shape[0]))\n",
    "    for i in range(y.shape[0]):\n",
    "        for j in range(y.shape[0]):\n",
    "            if i!=j:\n",
    "                qij=compute_qij(y,i,j)\n",
    "                table[i,j]=qij\n",
    "    return table"
   ]
  },
  {
   "cell_type": "code",
   "execution_count": 8,
   "metadata": {},
   "outputs": [],
   "source": [
    "\n",
    "#compute the erros between the 2 distributions using the KL-divergence\n",
    "def kl_divergence(p,q):\n",
    "    total=0\n",
    "    for i in range(p.shape[0]):\n",
    "        for j in range(q.shape[0]):\n",
    "            if q[i,j]!=0 and p[i,j]!=0:\n",
    "                total+=p[i,j]*np.log(p[i,j]/q[i,j])\n",
    "    return total"
   ]
  },
  {
   "cell_type": "code",
   "execution_count": 9,
   "metadata": {},
   "outputs": [],
   "source": [
    "\n",
    "#apply gradient descent to lower the KL-divergence\n",
    "#added momentum increase the speed\n",
    "def gradient_descent(p,q,y):\n",
    "    history=np.zeros((p.shape[0],2,y.shape[1]))\n",
    "    for iter in range(EPOCHS):\n",
    "        for i in range(y.shape[0]):\n",
    "            sum_value=0\n",
    "            for j in range(y.shape[0]):\n",
    "                sum_value+=((y[i]-y[j])*(p[i,j]-q[i,j])*(1+np.linalg.norm(y[i]-y[j]**2))**-1)\n",
    "            y[i]-=4*LR*sum_value+MOMENTUM*(history[i,1]-history[i,0])\n",
    "            history[i,0]=history[i,1]\n",
    "            history[i,1]=y[i]\n",
    "        if iter%100==0:\n",
    "            q=compute_q(y)\n",
    "            print(kl_divergence(p,q)) \n",
    "    y-=np.mean(y)\n",
    "    y/=np.std(y)\n",
    "    return y"
   ]
  },
  {
   "cell_type": "code",
   "execution_count": 15,
   "metadata": {},
   "outputs": [
    {
     "name": "stdout",
     "output_type": "stream",
     "text": [
      "(10000, 784)\n",
      "(20, 784)\n"
     ]
    },
    {
     "name": "stderr",
     "output_type": "stream",
     "text": [
      "<ipython-input-4-a3bfa76c3c7c>:12: RuntimeWarning: invalid value encountered in double_scalars\n",
      "  return num/denom\n"
     ]
    },
    {
     "name": "stdout",
     "output_type": "stream",
     "text": [
      "[[ 9257.10877465  9037.25626382]\n",
      " [14497.72845834 14084.25551851]\n",
      " [ 5295.7196791   4676.21026249]\n",
      " [16943.57295954 18659.92022884]\n",
      " [ 7762.0465908   9723.48850145]\n",
      " [ 7235.35636686  6266.28205886]\n",
      " [10098.24719854 10085.24087768]\n",
      " [ 9910.2326507   9990.62065625]\n",
      " [13620.49338572 15412.96990047]\n",
      " [15055.63064775 15399.25381422]\n",
      " [14621.04875156 14796.1762606 ]\n",
      " [13294.57381081 13970.89374282]\n",
      " [10616.07626622 11643.66437463]\n",
      " [13184.87168593 14700.41166681]\n",
      " [ 8674.83754212  6997.63326005]\n",
      " [10987.81691958 10584.9094666 ]\n",
      " [ 9304.29043789 11850.75949475]\n",
      " [10658.95814493 11478.81901131]\n",
      " [17804.8751733  17946.78349088]\n",
      " [ 6547.41209989  7675.9251243 ]]\n",
      "[[-2251.70051334 -2471.55302417]\n",
      " [ 2988.91917035  2575.44623052]\n",
      " [-6213.08960889 -6832.5990255 ]\n",
      " [ 5434.76367155  7151.11094085]\n",
      " [-3746.76269719 -1785.32078654]\n",
      " [-4273.45292113 -5242.52722913]\n",
      " [-1410.56208945 -1423.56841031]\n",
      " [-1598.57663729 -1518.18863174]\n",
      " [ 2111.68409773  3904.16061248]\n",
      " [ 3546.82135976  3890.44452623]\n",
      " [ 3112.23946357  3287.36697261]\n",
      " [ 1785.76452282  2462.08445483]\n",
      " [ -892.73302177   134.85508664]\n",
      " [ 1676.06239794  3191.60237882]\n",
      " [-2833.97174587 -4511.17602793]\n",
      " [ -520.99236841  -923.89982139]\n",
      " [-2204.51885009   341.95020676]\n",
      " [ -849.85114306   -29.99027668]\n",
      " [ 6296.06588531  6437.97420289]\n",
      " [-4961.3971881  -3832.88416369]]\n",
      "[[-0.6299055  -0.69140849]\n",
      " [ 0.83613989  0.72047226]\n",
      " [-1.73809053 -1.91139616]\n",
      " [ 1.52035651  2.00049878]\n",
      " [-1.04814402 -0.49943737]\n",
      " [-1.19548381 -1.46657903]\n",
      " [-0.39459991 -0.39823838]\n",
      " [-0.44719634 -0.42470807]\n",
      " [ 0.59073639  1.09217555]\n",
      " [ 0.99221112  1.08833852]\n",
      " [ 0.87063832  0.91962964]\n",
      " [ 0.49956151  0.68875969]\n",
      " [-0.249739    0.03772525]\n",
      " [ 0.46887271  0.89283983]\n",
      " [-0.79279388 -1.26198603]\n",
      " [-0.14574583 -0.25845781]\n",
      " [-0.61670659  0.0956594 ]\n",
      " [-0.23774294 -0.00838968]\n",
      " [ 1.76130285  1.80100122]\n",
      " [-1.38793386 -1.07223621]]\n",
      "nan\n",
      "nan\n",
      "nan\n",
      "nan\n",
      "nan\n",
      "nan\n",
      "nan\n",
      "nan\n",
      "nan\n",
      "nan\n",
      "nan\n",
      "nan\n",
      "nan\n",
      "nan\n",
      "nan\n",
      "nan\n",
      "nan\n",
      "nan\n",
      "nan\n",
      "nan\n",
      "[[nan nan]\n",
      " [nan nan]\n",
      " [nan nan]\n",
      " [nan nan]\n",
      " [nan nan]\n",
      " [nan nan]\n",
      " [nan nan]\n",
      " [nan nan]\n",
      " [nan nan]\n",
      " [nan nan]\n",
      " [nan nan]\n",
      " [nan nan]\n",
      " [nan nan]\n",
      " [nan nan]\n",
      " [nan nan]\n",
      " [nan nan]\n",
      " [nan nan]\n",
      " [nan nan]\n",
      " [nan nan]\n",
      " [nan nan]]\n"
     ]
    },
    {
     "data": {
      "image/png": "[encoded data removed]",
      "text/plain": [
       "<Figure size 432x288 with 1 Axes>"
      ]
     },
     "metadata": {
      "needs_background": "light"
     },
     "output_type": "display_data"
    }
   ],
   "source": [
    "\n",
    "def main():\n",
    "    #I choose a dataset with two well separated part\n",
    "    # x=np.random.rand(10,3)\n",
    "    # # print(x)\n",
    "    # x=np.tile(x,(2,1))\n",
    "    # # print(x)\n",
    "    # x[:10]*=0.1\n",
    "    # # print(x)\n",
    "    # print(x.shape)\n",
    "    dataset = load_from_csv('Datasets/mnist_test.csv')\n",
    "    x = dataset.iloc[:, 1:].values\n",
    "    print(x.shape)\n",
    "    x = x[:20]\n",
    "    print(x.shape)\n",
    "    color=['blue']*10+['red']*10\n",
    "\n",
    "    # fig = plt.figure()\n",
    "    # ax = fig.add_subplot(111, projection='3d')\n",
    "    # ax.scatter(x[:,0],x[:,1],x[:,2],color=color)\n",
    "    # plt.show()\n",
    "\n",
    "    table_p=compute_p(x)\n",
    "\n",
    "    #Probably not the right way to initialize the new space y\n",
    "    y=x.dot(np.random.rand(x.shape[1],2))\n",
    "    print(y)\n",
    "    y-=np.mean(y)\n",
    "    print(y)\n",
    "    y/=np.std(y)\n",
    "    print(y)\n",
    "    table_q=compute_q(y)\n",
    "    y=gradient_descent(table_p,table_q,y)\n",
    "    print(y)\n",
    "\n",
    "    plt.scatter(y[:,0],y[:,1],color=color)\n",
    "    plt.show()\n",
    "\n",
    "main()"
   ]
  }
 ],
 "metadata": {
  "kernelspec": {
   "display_name": "Python 3 (ipykernel)",
   "language": "python",
   "name": "python3"
  },
  "language_info": {
   "codemirror_mode": {
    "name": "ipython",
    "version": 3
   },
   "file_extension": ".py",
   "mimetype": "text/x-python",
   "name": "python",
   "nbconvert_exporter": "python",
   "pygments_lexer": "ipython3",
   "version": "3.9.7"
  }
 },
 "nbformat": 4,
 "nbformat_minor": 4
}
