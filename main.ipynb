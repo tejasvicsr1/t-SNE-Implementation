{
 "cells": [
  {
   "cell_type": "code",
   "execution_count": 1,
   "metadata": {},
   "outputs": [],
   "source": [
    "import pandas as pd\n",
    "import numpy as np\n",
    "import matplotlib.pyplot as plt\n",
    "from sammon import sammon\n",
    "from sklearn.decomposition import PCA\n",
    "import matplotlib as mpl"
   ]
  },
  {
   "cell_type": "code",
   "execution_count": 2,
   "metadata": {},
   "outputs": [],
   "source": [
    "def load_from_csv(filename):\n",
    "    \"\"\"\n",
    "    Loads a CSV file into a pandas dataframe.\n",
    "    \"\"\"\n",
    "    return pd.read_csv(filename)"
   ]
  },
  {
   "cell_type": "code",
   "execution_count": 4,
   "metadata": {},
   "outputs": [],
   "source": [
    "def load_from_npy(filename):\n",
    "    \"\"\"\n",
    "    Loads a NPY file into a pandas dataframe.\n",
    "    \"\"\"\n",
    "    return np.load(filename)"
   ]
  },
  {
   "cell_type": "code",
   "execution_count": 5,
   "metadata": {},
   "outputs": [],
   "source": [
    "def run_PCA(data, labels, n_components=2):\n",
    "    \"\"\"\n",
    "    Runs PCA on the data.\n",
    "    \"\"\"\n",
    "    pca = PCA(n_components=n_components)\n",
    "    principalComponents = pca.fit_transform(data)\n",
    "    principalDf = pd.DataFrame(data = principalComponents)\n",
    "    principalDf['label'] = labels\n",
    "    return principalDf"
   ]
  },
  {
   "cell_type": "code",
   "execution_count": 19,
   "metadata": {},
   "outputs": [],
   "source": [
    "def plot_stuff(train_PCA, labels):\n",
    "    \"\"\"\n",
    "    Plots the PCA results.\n",
    "    \"\"\"\n",
    "    N = len(set(labels))\n",
    "    fig, ax = plt.subplots(1, 1, figsize=(8,8))\n",
    "    x = train_PCA[0]\n",
    "    y = train_PCA[1]\n",
    "    tag = train_PCA['label']\n",
    "\n",
    "    cmap = plt.cm.jet\n",
    "    cmpalist = [cmap(i) for i in range(cmap.N)]\n",
    "    cmap = cmap.from_list('Custom cmap', cmpalist, cmap.N)\n",
    "\n",
    "    bounds = np.linspace(0, N, N+1)\n",
    "    norm = mpl.colors.BoundaryNorm(bounds, cmap.N)\n",
    "\n",
    "    scat = ax.scatter(x, y, c=tag, cmap=cmap, norm=norm)\n",
    "    cb = plt.colorbar(scat, spacing='proportional', ticks=bounds)\n",
    "    cb.set_label('Custom cbar')\n",
    "    ax.set_title('PCA')\n",
    "    plt.show()"
   ]
  },
  {
   "cell_type": "code",
   "execution_count": 7,
   "metadata": {},
   "outputs": [],
   "source": [
    "def run_sammon(data, labels, n_components=2):\n",
    "    \"\"\"\n",
    "    Runs Sammon on the data.\n",
    "    \"\"\"\n",
    "    new_data = data.to_numpy()\n",
    "    new_data = np.delete(new_data, -1, axis=1)\n",
    "    [y_new, E] = sammon(new_data, n_components)\n",
    "    y_new = pd.DataFrame(y_new)\n",
    "    y_new['label'] = labels\n",
    "    return y_new"
   ]
  },
  {
   "cell_type": "code",
   "execution_count": 21,
   "metadata": {},
   "outputs": [
    {
     "name": "stdout",
     "output_type": "stream",
     "text": [
      "(600, 31)\n",
      "            0           1           2           3           4           5  \\\n",
      "0    4.635955 -622.048021 -370.896856  245.854525  150.926779  953.095003   \n",
      "1 -119.624537   97.227669 -600.441128   88.446909  293.603384 -306.400070   \n",
      "2  326.369723  987.910681  407.175371  271.532505  151.345396 -267.481477   \n",
      "3 -777.797042 -213.931850  -65.598163  236.242284 -233.500268   72.672497   \n",
      "4 -591.544509 -360.160164    2.541853  301.914590  -65.276653 -115.195927   \n",
      "\n",
      "            6           7           8           9  ...          21  \\\n",
      "0  -21.772001 -405.626056 -429.631998 -445.040291  ...  102.421538   \n",
      "1  -28.581045 -570.525535 -342.921634 -435.329563  ... -201.240502   \n",
      "2 -251.879595   45.674096 -218.445862  200.425062  ... -269.706108   \n",
      "3  222.776593  165.802651 -328.016685  -46.314278  ...   79.285161   \n",
      "4  806.837746   -3.310721  -77.377682 -283.964499  ...  298.696471   \n",
      "\n",
      "           22          23          24          25          26          27  \\\n",
      "0   30.151724 -203.777051  -43.482483   22.205513  108.489795   44.719262   \n",
      "1 -133.915273  -83.968494   39.420131  178.102336   89.363062  246.790775   \n",
      "2  255.867081  -53.027741  -92.554699   88.280943 -147.048783  -21.811552   \n",
      "3  164.138453   96.877386 -166.463364  150.744371  137.214241 -110.628176   \n",
      "4   18.270184  124.675023  233.476248   35.086619  106.223055  -25.344924   \n",
      "\n",
      "           28          29  label  \n",
      "0  -26.872685 -133.778253    7.0  \n",
      "1 -214.252948 -347.361958    NaN  \n",
      "2 -577.557862   60.606915    NaN  \n",
      "3  -93.026285  -27.263459    0.0  \n",
      "4  -23.820454  -58.799002    NaN  \n",
      "\n",
      "[5 rows x 31 columns]\n",
      "TolFun exceeded: Optimisation terminated\n"
     ]
    },
    {
     "data": {
      "image/png": "[encoded data removed]",
      "text/plain": [
       "<Figure size 576x576 with 2 Axes>"
      ]
     },
     "metadata": {
      "needs_background": "light"
     },
     "output_type": "display_data"
    }
   ],
   "source": [
    "dataset = load_from_csv('Datasets/mnist_test.csv')\n",
    "train_data = dataset.sample(n=600, random_state=42)\n",
    "# print(train_data.shape)\n",
    "# print(train_data.head())\n",
    "labels = train_data['label']\n",
    "# print(labels)\n",
    "# print(set(labels))\n",
    "train_data = train_data.drop(columns=['label'])\n",
    "# print(train_data.shape)\n",
    "# print(train_data.head())\n",
    "train_PCA = run_PCA(train_data, labels, 30)\n",
    "print(train_PCA.shape)\n",
    "print(train_PCA.head())\n",
    "smapping = run_sammon(train_PCA, labels, 2)\n",
    "plot_stuff(smapping, labels)\n",
    "\n"
   ]
  },
  {
   "cell_type": "code",
   "execution_count": 23,
   "metadata": {},
   "outputs": [
    {
     "name": "stdout",
     "output_type": "stream",
     "text": [
      "      1x1  1x2  1x3  1x4  1x5  1x6  1x7  1x8  1x9  1x10  ...  28x19  28x20  \\\n",
      "6252    0    0    0    0    0    0    0    0    0     0  ...      0      0   \n",
      "4684    0    0    0    0    0    0    0    0    0     0  ...      0      0   \n",
      "1731    0    0    0    0    0    0    0    0    0     0  ...      0      0   \n",
      "4742    0    0    0    0    0    0    0    0    0     0  ...      0      0   \n",
      "4521    0    0    0    0    0    0    0    0    0     0  ...      0      0   \n",
      "\n",
      "      28x21  28x22  28x23  28x24  28x25  28x26  28x27  28x28  \n",
      "6252      0      0      0      0      0      0      0      0  \n",
      "4684      0      0      0      0      0      0      0      0  \n",
      "1731      0      0      0      0      0      0      0      0  \n",
      "4742      0      0      0      0      0      0      0      0  \n",
      "4521      0      0      0      0      0      0      0      0  \n",
      "\n",
      "[5 rows x 784 columns]\n",
      "      1x1  1x2  1x3  1x4  1x5  1x6  1x7  1x8  1x9  1x10  ...  28x19  28x20  \\\n",
      "6252    0    0    0    0    0    0    0    0    0     0  ...      0      0   \n",
      "4684    0    0    0    0    0    0    0    0    0     0  ...      0      0   \n",
      "1731    0    0    0    0    0    0    0    0    0     0  ...      0      0   \n",
      "4742    0    0    0    0    0    0    0    0    0     0  ...      0      0   \n",
      "4521    0    0    0    0    0    0    0    0    0     0  ...      0      0   \n",
      "\n",
      "      28x21  28x22  28x23  28x24  28x25  28x26  28x27  28x28  \n",
      "6252      0      0      0      0      0      0      0      0  \n",
      "4684      0      0      0      0      0      0      0      0  \n",
      "1731      0      0      0      0      0      0      0      0  \n",
      "4742      0      0      0      0      0      0      0      0  \n",
      "4521      0      0      0      0      0      0      0      0  \n",
      "\n",
      "[5 rows x 784 columns]\n",
      "               0            1  label\n",
      "0    3388.705706 -3445.776405    7.0\n",
      "1   -1347.417423  -725.812438    NaN\n",
      "2    2412.581061  6346.840488    NaN\n",
      "3   -1853.561593  -361.098901    0.0\n",
      "4   -3650.882671 -1099.086578    NaN\n",
      "..           ...          ...    ...\n",
      "595 -4236.881468  -869.100590    NaN\n",
      "596 -3440.779234 -2958.867998    NaN\n",
      "597 -2186.671348 -1370.084851    NaN\n",
      "598 -2446.539047 -1310.263332    NaN\n",
      "599  -643.368235  -837.454677    NaN\n",
      "\n",
      "[600 rows x 3 columns]\n"
     ]
    },
    {
     "data": {
      "image/png": "[encoded data removed]",
      "text/plain": [
       "<Figure size 576x576 with 2 Axes>"
      ]
     },
     "metadata": {
      "needs_background": "light"
     },
     "output_type": "display_data"
    }
   ],
   "source": [
    "from sklearn.manifold import Isomap\n",
    "embedding = Isomap(n_components=2)\n",
    "print(train_data.head())\n",
    "X_transformed = embedding.fit_transform(train_data)\n",
    "print(train_data.head())\n",
    "X_transformed.shape\n",
    "X_transformed = pd.DataFrame(X_transformed)\n",
    "X_transformed['label'] = labels\n",
    "print(X_transformed)\n",
    "plot_stuff(X_transformed, labels)\n"
   ]
  }
 ],
 "metadata": {
  "interpreter": {
   "hash": "e7370f93d1d0cde622a1f8e1c04877d8463912d04d973331ad4851f04de6915a"
  },
  "kernelspec": {
   "display_name": "Python 3.9.7 64-bit",
   "language": "python",
   "name": "python3"
  },
  "language_info": {
   "codemirror_mode": {
    "name": "ipython",
    "version": 3
   },
   "file_extension": ".py",
   "mimetype": "text/x-python",
   "name": "python",
   "nbconvert_exporter": "python",
   "pygments_lexer": "ipython3",
   "version": "3.8.3"
  },
  "orig_nbformat": 4
 },
 "nbformat": 4,
 "nbformat_minor": 2
}
